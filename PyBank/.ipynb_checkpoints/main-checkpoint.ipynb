{
 "cells": [
  {
   "cell_type": "code",
   "execution_count": 23,
   "id": "united-northwest",
   "metadata": {},
   "outputs": [],
   "source": [
    "#Import pandas\n",
    "import pandas as pd\n",
    "from pathlib import Path"
   ]
  },
  {
   "cell_type": "code",
   "execution_count": 24,
   "id": "elegant-mediterranean",
   "metadata": {},
   "outputs": [
    {
     "data": {
      "text/html": [
       "<div>\n",
       "<style scoped>\n",
       "    .dataframe tbody tr th:only-of-type {\n",
       "        vertical-align: middle;\n",
       "    }\n",
       "\n",
       "    .dataframe tbody tr th {\n",
       "        vertical-align: top;\n",
       "    }\n",
       "\n",
       "    .dataframe thead th {\n",
       "        text-align: right;\n",
       "    }\n",
       "</style>\n",
       "<table border=\"1\" class=\"dataframe\">\n",
       "  <thead>\n",
       "    <tr style=\"text-align: right;\">\n",
       "      <th></th>\n",
       "      <th>Date</th>\n",
       "      <th>Profit/Losses</th>\n",
       "    </tr>\n",
       "  </thead>\n",
       "  <tbody>\n",
       "    <tr>\n",
       "      <th>0</th>\n",
       "      <td>Jan-2010</td>\n",
       "      <td>867884</td>\n",
       "    </tr>\n",
       "    <tr>\n",
       "      <th>1</th>\n",
       "      <td>Feb-2010</td>\n",
       "      <td>984655</td>\n",
       "    </tr>\n",
       "    <tr>\n",
       "      <th>2</th>\n",
       "      <td>Mar-2010</td>\n",
       "      <td>322013</td>\n",
       "    </tr>\n",
       "    <tr>\n",
       "      <th>3</th>\n",
       "      <td>Apr-2010</td>\n",
       "      <td>-69417</td>\n",
       "    </tr>\n",
       "    <tr>\n",
       "      <th>4</th>\n",
       "      <td>May-2010</td>\n",
       "      <td>310503</td>\n",
       "    </tr>\n",
       "  </tbody>\n",
       "</table>\n",
       "</div>"
      ],
      "text/plain": [
       "       Date  Profit/Losses\n",
       "0  Jan-2010         867884\n",
       "1  Feb-2010         984655\n",
       "2  Mar-2010         322013\n",
       "3  Apr-2010         -69417\n",
       "4  May-2010         310503"
      ]
     },
     "execution_count": 24,
     "metadata": {},
     "output_type": "execute_result"
    }
   ],
   "source": [
    "#read csv\n",
    "df = pd.read_csv(\"Homework_02-Python_Instructions_PyBank_Resources_budget_data.csv\")\n",
    "df.head()"
   ]
  },
  {
   "cell_type": "code",
   "execution_count": 25,
   "id": "legal-mumbai",
   "metadata": {},
   "outputs": [
    {
     "data": {
      "text/html": [
       "<div>\n",
       "<style scoped>\n",
       "    .dataframe tbody tr th:only-of-type {\n",
       "        vertical-align: middle;\n",
       "    }\n",
       "\n",
       "    .dataframe tbody tr th {\n",
       "        vertical-align: top;\n",
       "    }\n",
       "\n",
       "    .dataframe thead th {\n",
       "        text-align: right;\n",
       "    }\n",
       "</style>\n",
       "<table border=\"1\" class=\"dataframe\">\n",
       "  <thead>\n",
       "    <tr style=\"text-align: right;\">\n",
       "      <th></th>\n",
       "      <th>Date</th>\n",
       "      <th>Profit/Losses</th>\n",
       "    </tr>\n",
       "  </thead>\n",
       "  <tbody>\n",
       "    <tr>\n",
       "      <th>81</th>\n",
       "      <td>Oct-2016</td>\n",
       "      <td>102685</td>\n",
       "    </tr>\n",
       "    <tr>\n",
       "      <th>82</th>\n",
       "      <td>Nov-2016</td>\n",
       "      <td>795914</td>\n",
       "    </tr>\n",
       "    <tr>\n",
       "      <th>83</th>\n",
       "      <td>Dec-2016</td>\n",
       "      <td>60988</td>\n",
       "    </tr>\n",
       "    <tr>\n",
       "      <th>84</th>\n",
       "      <td>Jan-2017</td>\n",
       "      <td>138230</td>\n",
       "    </tr>\n",
       "    <tr>\n",
       "      <th>85</th>\n",
       "      <td>Feb-2017</td>\n",
       "      <td>671099</td>\n",
       "    </tr>\n",
       "  </tbody>\n",
       "</table>\n",
       "</div>"
      ],
      "text/plain": [
       "        Date  Profit/Losses\n",
       "81  Oct-2016         102685\n",
       "82  Nov-2016         795914\n",
       "83  Dec-2016          60988\n",
       "84  Jan-2017         138230\n",
       "85  Feb-2017         671099"
      ]
     },
     "execution_count": 25,
     "metadata": {},
     "output_type": "execute_result"
    }
   ],
   "source": [
    "df.tail()"
   ]
  },
  {
   "cell_type": "code",
   "execution_count": 26,
   "id": "referenced-cleveland",
   "metadata": {},
   "outputs": [
    {
     "data": {
      "text/plain": [
       "86"
      ]
     },
     "execution_count": 26,
     "metadata": {},
     "output_type": "execute_result"
    }
   ],
   "source": [
    "#The total number of months included in the dataset.\n",
    "df.describe\n",
    "len(df)\n",
    "df[\"Date\"].nunique()\n",
    "#3 different commands to reach solution. 86 months in dataset."
   ]
  },
  {
   "cell_type": "code",
   "execution_count": 27,
   "id": "academic-killing",
   "metadata": {},
   "outputs": [
    {
     "data": {
      "text/plain": [
       "86"
      ]
     },
     "execution_count": 27,
     "metadata": {},
     "output_type": "execute_result"
    }
   ],
   "source": [
    "total_months = len(df)\n",
    "total_months"
   ]
  },
  {
   "cell_type": "code",
   "execution_count": 28,
   "id": "blocked-paragraph",
   "metadata": {},
   "outputs": [
    {
     "name": "stdout",
     "output_type": "stream",
     "text": [
      "38382578\n"
     ]
    }
   ],
   "source": [
    "#The net total amount of Profit/Losses over the entire period.\n",
    "total= df[\"Profit/Losses\"].sum()\n",
    "print(total)\n"
   ]
  },
  {
   "cell_type": "code",
   "execution_count": 29,
   "id": "noted-thomson",
   "metadata": {},
   "outputs": [
    {
     "name": "stdout",
     "output_type": "stream",
     "text": [
      "38382578\n"
     ]
    }
   ],
   "source": [
    "#The net total amount of Profit/Losses over the entire period via for loop:\n",
    "total1 = 0\n",
    "for x in df[\"Profit/Losses\"]:\n",
    "    total1 += x\n",
    "print(total1)"
   ]
  },
  {
   "cell_type": "code",
   "execution_count": 30,
   "id": "permanent-spectacular",
   "metadata": {},
   "outputs": [
    {
     "name": "stdout",
     "output_type": "stream",
     "text": [
      "-2315.12\n"
     ]
    }
   ],
   "source": [
    "#The average of the changes in Profit/Losses over the entire period via for loop:\n",
    "\n",
    "average_changes = []\n",
    "\n",
    "for item in range(1,len(df)):\n",
    "    changes = df[\"Profit/Losses\"][item]-df[\"Profit/Losses\"][item-1]\n",
    "    average_changes.append(changes)\n",
    "    \n",
    "total2 = round(sum(average_changes)/len(average_changes),2)\n",
    "print(total2)\n",
    "\n"
   ]
  },
  {
   "cell_type": "code",
   "execution_count": 31,
   "id": "personalized-haven",
   "metadata": {},
   "outputs": [
    {
     "data": {
      "text/plain": [
       "-2315.12"
      ]
     },
     "execution_count": 31,
     "metadata": {},
     "output_type": "execute_result"
    }
   ],
   "source": [
    "#The average of the changes in Profit/Losses over the entire period via pandas:\n",
    "total= df[\"Profit/Losses\"].sum()\n",
    "changes = df[\"Profit/Losses\"] - df[\"Profit/Losses\"].shift()\n",
    "average_changes2 = round(changes.mean(),2)\n",
    "average_changes2\n"
   ]
  },
  {
   "cell_type": "code",
   "execution_count": 32,
   "id": "tutorial-lighting",
   "metadata": {},
   "outputs": [
    {
     "data": {
      "text/plain": [
       "1926159.0"
      ]
     },
     "execution_count": 32,
     "metadata": {},
     "output_type": "execute_result"
    }
   ],
   "source": [
    "#The greatest increase in profits (date and amount) over the entire period, using variable \"changes\" from previous cell .max Pandas function.\n",
    "changes = df[\"Profit/Losses\"] - df[\"Profit/Losses\"].shift()\n",
    "max_value = changes.max()\n",
    "max_value\n"
   ]
  },
  {
   "cell_type": "code",
   "execution_count": 33,
   "id": "shaped-stranger",
   "metadata": {},
   "outputs": [
    {
     "data": {
      "text/html": [
       "<div>\n",
       "<style scoped>\n",
       "    .dataframe tbody tr th:only-of-type {\n",
       "        vertical-align: middle;\n",
       "    }\n",
       "\n",
       "    .dataframe tbody tr th {\n",
       "        vertical-align: top;\n",
       "    }\n",
       "\n",
       "    .dataframe thead th {\n",
       "        text-align: right;\n",
       "    }\n",
       "</style>\n",
       "<table border=\"1\" class=\"dataframe\">\n",
       "  <thead>\n",
       "    <tr style=\"text-align: right;\">\n",
       "      <th></th>\n",
       "      <th>Date</th>\n",
       "      <th>Profit/Losses</th>\n",
       "      <th>PnL_Changes</th>\n",
       "    </tr>\n",
       "  </thead>\n",
       "  <tbody>\n",
       "    <tr>\n",
       "      <th>25</th>\n",
       "      <td>Feb-2012</td>\n",
       "      <td>1170593</td>\n",
       "      <td>1926159.0</td>\n",
       "    </tr>\n",
       "  </tbody>\n",
       "</table>\n",
       "</div>"
      ],
      "text/plain": [
       "        Date  Profit/Losses  PnL_Changes\n",
       "25  Feb-2012        1170593    1926159.0"
      ]
     },
     "execution_count": 33,
     "metadata": {},
     "output_type": "execute_result"
    }
   ],
   "source": [
    "#In Order to locate date, first add column to original dataframe of all the changes in profits and losses, \n",
    "#then use the .loc function to locate exactly where the greatest increase in profits occured in the dataframe. \n",
    "# The result= Index 25, February-2012 the greatest increase in profits was \"1926159.0\"\n",
    "PnL_Changes = df[\"Profit/Losses\"] - df[\"Profit/Losses\"].shift()\n",
    "PnL_Changes\n",
    "df[\"PnL_Changes\"] = PnL_Changes\n",
    "df\n",
    "df.loc[df['PnL_Changes'] == 1926159.0].head()"
   ]
  },
  {
   "cell_type": "code",
   "execution_count": 34,
   "id": "under-kidney",
   "metadata": {},
   "outputs": [
    {
     "name": "stdout",
     "output_type": "stream",
     "text": [
      "-2196167.0\n",
      "1926159.0\n"
     ]
    },
    {
     "data": {
      "text/html": [
       "<div>\n",
       "<style scoped>\n",
       "    .dataframe tbody tr th:only-of-type {\n",
       "        vertical-align: middle;\n",
       "    }\n",
       "\n",
       "    .dataframe tbody tr th {\n",
       "        vertical-align: top;\n",
       "    }\n",
       "\n",
       "    .dataframe thead th {\n",
       "        text-align: right;\n",
       "    }\n",
       "</style>\n",
       "<table border=\"1\" class=\"dataframe\">\n",
       "  <thead>\n",
       "    <tr style=\"text-align: right;\">\n",
       "      <th></th>\n",
       "      <th>Date</th>\n",
       "      <th>Profit/Losses</th>\n",
       "      <th>PnL_Changes</th>\n",
       "    </tr>\n",
       "  </thead>\n",
       "  <tbody>\n",
       "    <tr>\n",
       "      <th>0</th>\n",
       "      <td>Jan-2010</td>\n",
       "      <td>867884</td>\n",
       "      <td>NaN</td>\n",
       "    </tr>\n",
       "    <tr>\n",
       "      <th>1</th>\n",
       "      <td>Feb-2010</td>\n",
       "      <td>984655</td>\n",
       "      <td>116771.0</td>\n",
       "    </tr>\n",
       "    <tr>\n",
       "      <th>2</th>\n",
       "      <td>Mar-2010</td>\n",
       "      <td>322013</td>\n",
       "      <td>-662642.0</td>\n",
       "    </tr>\n",
       "    <tr>\n",
       "      <th>3</th>\n",
       "      <td>Apr-2010</td>\n",
       "      <td>-69417</td>\n",
       "      <td>-391430.0</td>\n",
       "    </tr>\n",
       "    <tr>\n",
       "      <th>4</th>\n",
       "      <td>May-2010</td>\n",
       "      <td>310503</td>\n",
       "      <td>379920.0</td>\n",
       "    </tr>\n",
       "    <tr>\n",
       "      <th>5</th>\n",
       "      <td>Jun-2010</td>\n",
       "      <td>522857</td>\n",
       "      <td>212354.0</td>\n",
       "    </tr>\n",
       "    <tr>\n",
       "      <th>6</th>\n",
       "      <td>Jul-2010</td>\n",
       "      <td>1033096</td>\n",
       "      <td>510239.0</td>\n",
       "    </tr>\n",
       "    <tr>\n",
       "      <th>7</th>\n",
       "      <td>Aug-2010</td>\n",
       "      <td>604885</td>\n",
       "      <td>-428211.0</td>\n",
       "    </tr>\n",
       "    <tr>\n",
       "      <th>8</th>\n",
       "      <td>Sep-2010</td>\n",
       "      <td>-216386</td>\n",
       "      <td>-821271.0</td>\n",
       "    </tr>\n",
       "    <tr>\n",
       "      <th>9</th>\n",
       "      <td>Oct-2010</td>\n",
       "      <td>477532</td>\n",
       "      <td>693918.0</td>\n",
       "    </tr>\n",
       "    <tr>\n",
       "      <th>10</th>\n",
       "      <td>Nov-2010</td>\n",
       "      <td>893810</td>\n",
       "      <td>416278.0</td>\n",
       "    </tr>\n",
       "    <tr>\n",
       "      <th>11</th>\n",
       "      <td>Dec-2010</td>\n",
       "      <td>-80353</td>\n",
       "      <td>-974163.0</td>\n",
       "    </tr>\n",
       "    <tr>\n",
       "      <th>12</th>\n",
       "      <td>Jan-2011</td>\n",
       "      <td>779806</td>\n",
       "      <td>860159.0</td>\n",
       "    </tr>\n",
       "    <tr>\n",
       "      <th>13</th>\n",
       "      <td>Feb-2011</td>\n",
       "      <td>-335203</td>\n",
       "      <td>-1115009.0</td>\n",
       "    </tr>\n",
       "    <tr>\n",
       "      <th>14</th>\n",
       "      <td>Mar-2011</td>\n",
       "      <td>697845</td>\n",
       "      <td>1033048.0</td>\n",
       "    </tr>\n",
       "    <tr>\n",
       "      <th>15</th>\n",
       "      <td>Apr-2011</td>\n",
       "      <td>793163</td>\n",
       "      <td>95318.0</td>\n",
       "    </tr>\n",
       "    <tr>\n",
       "      <th>16</th>\n",
       "      <td>May-2011</td>\n",
       "      <td>485070</td>\n",
       "      <td>-308093.0</td>\n",
       "    </tr>\n",
       "    <tr>\n",
       "      <th>17</th>\n",
       "      <td>Jun-2011</td>\n",
       "      <td>584122</td>\n",
       "      <td>99052.0</td>\n",
       "    </tr>\n",
       "    <tr>\n",
       "      <th>18</th>\n",
       "      <td>Jul-2011</td>\n",
       "      <td>62729</td>\n",
       "      <td>-521393.0</td>\n",
       "    </tr>\n",
       "    <tr>\n",
       "      <th>19</th>\n",
       "      <td>Aug-2011</td>\n",
       "      <td>668179</td>\n",
       "      <td>605450.0</td>\n",
       "    </tr>\n",
       "    <tr>\n",
       "      <th>20</th>\n",
       "      <td>Sep-2011</td>\n",
       "      <td>899906</td>\n",
       "      <td>231727.0</td>\n",
       "    </tr>\n",
       "    <tr>\n",
       "      <th>21</th>\n",
       "      <td>Oct-2011</td>\n",
       "      <td>834719</td>\n",
       "      <td>-65187.0</td>\n",
       "    </tr>\n",
       "    <tr>\n",
       "      <th>22</th>\n",
       "      <td>Nov-2011</td>\n",
       "      <td>132003</td>\n",
       "      <td>-702716.0</td>\n",
       "    </tr>\n",
       "    <tr>\n",
       "      <th>23</th>\n",
       "      <td>Dec-2011</td>\n",
       "      <td>309978</td>\n",
       "      <td>177975.0</td>\n",
       "    </tr>\n",
       "    <tr>\n",
       "      <th>24</th>\n",
       "      <td>Jan-2012</td>\n",
       "      <td>-755566</td>\n",
       "      <td>-1065544.0</td>\n",
       "    </tr>\n",
       "    <tr>\n",
       "      <th>25</th>\n",
       "      <td>Feb-2012</td>\n",
       "      <td>1170593</td>\n",
       "      <td>1926159.0</td>\n",
       "    </tr>\n",
       "  </tbody>\n",
       "</table>\n",
       "</div>"
      ],
      "text/plain": [
       "        Date  Profit/Losses  PnL_Changes\n",
       "0   Jan-2010         867884          NaN\n",
       "1   Feb-2010         984655     116771.0\n",
       "2   Mar-2010         322013    -662642.0\n",
       "3   Apr-2010         -69417    -391430.0\n",
       "4   May-2010         310503     379920.0\n",
       "5   Jun-2010         522857     212354.0\n",
       "6   Jul-2010        1033096     510239.0\n",
       "7   Aug-2010         604885    -428211.0\n",
       "8   Sep-2010        -216386    -821271.0\n",
       "9   Oct-2010         477532     693918.0\n",
       "10  Nov-2010         893810     416278.0\n",
       "11  Dec-2010         -80353    -974163.0\n",
       "12  Jan-2011         779806     860159.0\n",
       "13  Feb-2011        -335203   -1115009.0\n",
       "14  Mar-2011         697845    1033048.0\n",
       "15  Apr-2011         793163      95318.0\n",
       "16  May-2011         485070    -308093.0\n",
       "17  Jun-2011         584122      99052.0\n",
       "18  Jul-2011          62729    -521393.0\n",
       "19  Aug-2011         668179     605450.0\n",
       "20  Sep-2011         899906     231727.0\n",
       "21  Oct-2011         834719     -65187.0\n",
       "22  Nov-2011         132003    -702716.0\n",
       "23  Dec-2011         309978     177975.0\n",
       "24  Jan-2012        -755566   -1065544.0\n",
       "25  Feb-2012        1170593    1926159.0"
      ]
     },
     "execution_count": 34,
     "metadata": {},
     "output_type": "execute_result"
    }
   ],
   "source": [
    "#The greatest decrease in profits amount using for loop \n",
    "df[\"PnL_Changes\"] \n",
    "greatest_decrease = 0\n",
    "for i in df[\"PnL_Changes\"]:\n",
    "    if i == 0:\n",
    "        greatest_decrease = i\n",
    "    elif greatest_decrease > i:\n",
    "        greatest_decrease = i\n",
    "        \n",
    "print(greatest_decrease)\n",
    "\n",
    "#The greatest increase in profits amount using for loop \n",
    "df[\"PnL_Changes\"] \n",
    "greatest_increase = 0\n",
    "for i in df[\"PnL_Changes\"]:\n",
    "    if i == 0:\n",
    "        greatest_increase = i\n",
    "    elif greatest_increase < i:\n",
    "        greatest_increase = i\n",
    "        \n",
    "print(greatest_increase)\n",
    "\n",
    "df.head(26)\n"
   ]
  },
  {
   "cell_type": "code",
   "execution_count": 35,
   "id": "metropolitan-clinic",
   "metadata": {},
   "outputs": [
    {
     "data": {
      "text/plain": [
       "-2196167.0"
      ]
     },
     "execution_count": 35,
     "metadata": {},
     "output_type": "execute_result"
    }
   ],
   "source": [
    "#The greatest decrease in profits (date and amount) over the entire period, using .max Pandas function.\n",
    "changes = df[\"Profit/Losses\"] - df[\"Profit/Losses\"].shift()\n",
    "min_value = changes.min()\n",
    "min_value"
   ]
  },
  {
   "cell_type": "code",
   "execution_count": 36,
   "id": "recreational-vision",
   "metadata": {},
   "outputs": [
    {
     "data": {
      "text/html": [
       "<div>\n",
       "<style scoped>\n",
       "    .dataframe tbody tr th:only-of-type {\n",
       "        vertical-align: middle;\n",
       "    }\n",
       "\n",
       "    .dataframe tbody tr th {\n",
       "        vertical-align: top;\n",
       "    }\n",
       "\n",
       "    .dataframe thead th {\n",
       "        text-align: right;\n",
       "    }\n",
       "</style>\n",
       "<table border=\"1\" class=\"dataframe\">\n",
       "  <thead>\n",
       "    <tr style=\"text-align: right;\">\n",
       "      <th></th>\n",
       "      <th>Date</th>\n",
       "      <th>Profit/Losses</th>\n",
       "      <th>PnL_Changes</th>\n",
       "    </tr>\n",
       "  </thead>\n",
       "  <tbody>\n",
       "    <tr>\n",
       "      <th>44</th>\n",
       "      <td>Sep-2013</td>\n",
       "      <td>-1196225</td>\n",
       "      <td>-2196167.0</td>\n",
       "    </tr>\n",
       "  </tbody>\n",
       "</table>\n",
       "</div>"
      ],
      "text/plain": [
       "        Date  Profit/Losses  PnL_Changes\n",
       "44  Sep-2013       -1196225   -2196167.0"
      ]
     },
     "execution_count": 36,
     "metadata": {},
     "output_type": "execute_result"
    }
   ],
   "source": [
    "#Locating date for greatest decrease in profits\n",
    "PnL_Changes = df[\"Profit/Losses\"] - df[\"Profit/Losses\"].shift()\n",
    "PnL_Changes\n",
    "df[\"PnL_Changes\"] = PnL_Changes\n",
    "df\n",
    "df.loc[df['PnL_Changes'] == -2196167.0].head()"
   ]
  },
  {
   "cell_type": "code",
   "execution_count": 37,
   "id": "purple-birmingham",
   "metadata": {},
   "outputs": [],
   "source": [
    "#The greatest decrease in profits (date and amount) over the entire period via for loop"
   ]
  },
  {
   "cell_type": "code",
   "execution_count": 38,
   "id": "commercial-providence",
   "metadata": {},
   "outputs": [
    {
     "name": "stdout",
     "output_type": "stream",
     "text": [
      "Financial Analysis\n",
      "----------------------\n",
      "Total Months: 86\n",
      "Total: $38382578\n",
      "Average Change: $-2315.12\n",
      "Greatest Increase in Profits: Feb-2012 $(1926159.0)\n",
      "Greatest Decrease in Profits: Sep-2013 $(-2196167.0)\n"
     ]
    }
   ],
   "source": [
    "print(\"Financial Analysis\")\n",
    "print(\"----------------------\")\n",
    "print(f\"Total Months: {total_months}\")\n",
    "print(f\"Total: ${total}\")\n",
    "print(f\"Average Change: ${total2}\")\n",
    "print(f\"Greatest Increase in Profits: Feb-2012 $({max_value})\")\n",
    "print(f\"Greatest Decrease in Profits: Sep-2013 $({min_value})\")"
   ]
  },
  {
   "cell_type": "code",
   "execution_count": 40,
   "id": "recreational-customer",
   "metadata": {},
   "outputs": [],
   "source": [
    "output_path = Path(\"PyBank\")\n",
    "\n",
    "with open(output_path, 'w') as file:\n",
    "    file.write(f\"Financial Analysis\\n\")    \n",
    "    file.write(f\"----------------------------\\n\")\n",
    "    file.write(f\"Total Months: {total_months} \\n\")\n",
    "    file.write(f\"Total: ${total}\\n\")\n",
    "    file.write(f\"Average Change: $${total2}\\n\")\n",
    "    file.write(f\"Greatest Increase in Profits: Feb-2012 $({max_value}) \\n\")\n",
    "    file.write(f\"Greatest Decrease in Profits: Sep-2013 $({min_value}) \\n\")"
   ]
  },
  {
   "cell_type": "code",
   "execution_count": null,
   "id": "fancy-arkansas",
   "metadata": {},
   "outputs": [],
   "source": []
  }
 ],
 "metadata": {
  "kernelspec": {
   "display_name": "Python 3",
   "language": "python",
   "name": "python3"
  },
  "language_info": {
   "codemirror_mode": {
    "name": "ipython",
    "version": 3
   },
   "file_extension": ".py",
   "mimetype": "text/x-python",
   "name": "python",
   "nbconvert_exporter": "python",
   "pygments_lexer": "ipython3",
   "version": "3.8.5"
  }
 },
 "nbformat": 4,
 "nbformat_minor": 5
}
