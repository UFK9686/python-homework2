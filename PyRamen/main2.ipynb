{
 "cells": [
  {
   "cell_type": "code",
   "execution_count": 1,
   "id": "banned-demonstration",
   "metadata": {},
   "outputs": [],
   "source": [
    "from pathlib import Path\n",
    "import csv"
   ]
  },
  {
   "cell_type": "code",
   "execution_count": 2,
   "id": "distinct-occurrence",
   "metadata": {},
   "outputs": [],
   "source": [
    "#Menu Data Read CSV\n",
    "# Set the file path\n",
    "csvpath_menu = Path('menu_data.csv')\n",
    "\n",
    "# Initialize list to hold menu items\n",
    "menu = []\n",
    "\n",
    "#Open CSV using its file path\n",
    "with open(csvpath_menu, 'r') as csvfile:\n",
    "    \n",
    "    csv_reader = csv.reader(csvfile, delimiter=\",\")\n",
    "    \n",
    "    header = next(csv_reader)\n",
    "    \n",
    "    for row in csv_reader:\n",
    "        menu.append(row)\n",
    "       \n",
    "\n",
    "    \n",
    "    \n",
    "    \n",
    "    \n",
    "    \n",
    "    \n"
   ]
  },
  {
   "cell_type": "code",
   "execution_count": 3,
   "id": "described-melissa",
   "metadata": {},
   "outputs": [],
   "source": [
    "#Sales Data Read CSV\n",
    "# Set the file path\n",
    "csvpath_sales = Path('sales_data.csv')\n",
    "\n",
    "# Initialize list to hold menu items\n",
    "sales = []\n",
    "\n",
    "#Open CSV using its file path\n",
    "with open(csvpath_sales, 'r') as csvfile:\n",
    "    \n",
    "    csv_reader = csv.reader(csvfile, delimiter=\",\")\n",
    "    \n",
    "    header = next(csv_reader)\n",
    "    \n",
    "    for row in csv_reader:\n",
    "        sales.append(row)\n",
    "        \n",
    "       "
   ]
  },
  {
   "cell_type": "code",
   "execution_count": 8,
   "id": "motivated-sigma",
   "metadata": {},
   "outputs": [
    {
     "name": "stdout",
     "output_type": "stream",
     "text": [
      "sales_data.csv\n"
     ]
    }
   ],
   "source": [
    "#Manipulate Data\n",
    "#Initialize an empty report dictionary to hold the future aggregated per-product results.\n",
    "report = {}\n",
    "\n",
    "#loop through every row in the sales list object.\n",
    "#For each row of the sales data, set the columns of the sales data to their own variables\n",
    "for row in sales:\n",
    "    menu_item = row[4]\n",
    "    quantity = row[3]\n",
    "    \n"
   ]
  },
  {
   "cell_type": "code",
   "execution_count": null,
   "id": "flush-phoenix",
   "metadata": {},
   "outputs": [],
   "source": []
  }
 ],
 "metadata": {
  "kernelspec": {
   "display_name": "Python 3",
   "language": "python",
   "name": "python3"
  },
  "language_info": {
   "codemirror_mode": {
    "name": "ipython",
    "version": 3
   },
   "file_extension": ".py",
   "mimetype": "text/x-python",
   "name": "python",
   "nbconvert_exporter": "python",
   "pygments_lexer": "ipython3",
   "version": "3.8.5"
  }
 },
 "nbformat": 4,
 "nbformat_minor": 5
}
